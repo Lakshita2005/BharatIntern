{
 "cells": [
  {
   "cell_type": "code",
   "execution_count": null,
   "id": "12a13b31",
   "metadata": {},
   "outputs": [],
   "source": [
    "import seaborn as sns\n",
    "import matplotlib.pyplot as plt\n",
    "import numpy as np\n",
    "import pandas as pd\n",
    "from sklearn.model_selection import train_test_split\n",
    "from sklearn.feature_extraction.text import TfidfVectorizer\n",
    "from sklearn.naive_bayes import MultinomialNB\n",
    "from sklearn.metrics import accuracy_score, classification_report"
   ]
  },
  {
   "cell_type": "code",
   "execution_count": null,
   "id": "306c471a",
   "metadata": {},
   "outputs": [],
   "source": [
    "data=pd.read_csv(r\"C:\\Users\\chand\\OneDrive\\Desktop\\spam dataset2.csv\", encoding=\"ISO-8859-1\")\n",
    "print(data)"
   ]
  },
  {
   "cell_type": "code",
   "execution_count": null,
   "id": "cd627bea",
   "metadata": {},
   "outputs": [],
   "source": [
    "data.head()"
   ]
  },
  {
   "cell_type": "code",
   "execution_count": null,
   "id": "7b6b8289",
   "metadata": {},
   "outputs": [],
   "source": [
    "data.info()"
   ]
  },
  {
   "cell_type": "code",
   "execution_count": null,
   "id": "1890d8f5",
   "metadata": {},
   "outputs": [],
   "source": [
    "data.describe()"
   ]
  },
  {
   "cell_type": "code",
   "execution_count": null,
   "id": "6626785f",
   "metadata": {},
   "outputs": [],
   "source": [
    "#Renaming the columns\n",
    "data.rename(columns={\"v1\":\"Target\",\"v2\":\"Text\"},inplace=True)\n",
    "data.head()"
   ]
  },
  {
   "cell_type": "code",
   "execution_count": null,
   "id": "1adc1f48",
   "metadata": {},
   "outputs": [],
   "source": [
    "plt.figure(figsize=(12,8))\n",
    "fg=sns.countplot(x=data[\"Target\"])\n",
    "fg.set_title(\"Count Plot of Classes\")\n",
    "fg.set_xlabel(\"Classes\")\n",
    "fg.set_ylabel(\"Number of Data points\")"
   ]
  },
  {
   "cell_type": "markdown",
   "id": "cff09f63",
   "metadata": {},
   "source": [
    "The above plot depicts the imbalance between spam and ham"
   ]
  },
  {
   "cell_type": "code",
   "execution_count": null,
   "id": "1ce055c4",
   "metadata": {},
   "outputs": [],
   "source": [
    "data['message_length'] = data['message'].apply(len)\n",
    "plt.figure(figsize=(8, 6))\n",
    "sns.histplot(data['message_length'], bins=50, kde=True, color='blue')\n",
    "plt.title('Distribution of Message Lengths')\n",
    "plt.xlabel('Message Length')\n",
    "plt.ylabel('Frequency')\n",
    "plt.show()"
   ]
  },
  {
   "cell_type": "code",
   "execution_count": null,
   "id": "cb5d2e12",
   "metadata": {},
   "outputs": [],
   "source": [
    "plt.figure(figsize=(8, 6))\n",
    "sns.boxplot(x='label', y='message_length', data=data)\n",
    "plt.title('Message Lengths by Message Type')\n",
    "plt.xlabel('Type')\n",
    "plt.ylabel('Message Length')\n",
    "plt.show()\n"
   ]
  },
  {
   "cell_type": "code",
   "execution_count": null,
   "id": "16d90d31",
   "metadata": {},
   "outputs": [],
   "source": [
    "plt.title('%age of samples in each class')\n",
    "plt.pie(df['Target'].value_counts(),labels=['ham','spam'],colors=sns.color_palette('pastel'),explode=[0,0.1],autopct='%.2f%%')\n",
    "plt.show()"
   ]
  },
  {
   "cell_type": "code",
   "execution_count": null,
   "id": "3c9b4fa5",
   "metadata": {},
   "outputs": [],
   "source": [
    "data = pd.read_csv(r\"C:\\Users\\chand\\OneDrive\\Desktop\\spam dataset2.csv\", encoding='latin-1')\n",
    "\n",
    "# Keep only the necessary columns\n",
    "data = data[['v1', 'v2']]\n",
    "data.columns = ['label', 'message']\n",
    "\n",
    "# Convert label 'ham' and 'spam' to binary values: 0 for 'ham' and 1 for 'spam'\n",
    "data['label'] = data['label'].map({'ham': 0, 'spam': 1})\n",
    "\n",
    "# Feature Extraction\n",
    "# Convert text data into numerical features using TF-IDF Vectorizer\n",
    "vectorizer = TfidfVectorizer()\n",
    "X = vectorizer.fit_transform(data['message'])\n",
    "y = data['label']\n",
    "\n",
    "# Split the dataset into training and testing sets\n",
    "X_train, X_test, y_train, y_test = train_test_split(X, y, test_size=0.2, random_state=42)\n",
    "\n",
    "# Model Training\n",
    "# Initialize Naive Bayes classifier\n",
    "clf = MultinomialNB()\n",
    "# Train the classifier on the training data\n",
    "clf.fit(X_train, y_train)\n",
    "\n",
    "# Model Evaluation\n",
    "# Predict the labels for the test data\n",
    "y_pred = clf.predict(X_test)\n",
    "\n",
    "# Calculate accuracy\n",
    "accuracy = accuracy_score(y_test, y_pred)\n",
    "print(\"Accuracy:\", accuracy)\n",
    "\n",
    "# Generate classification report\n",
    "print(\"Classification Report:\")\n",
    "print(classification_report(y_test, y_pred))\n"
   ]
  },
  {
   "cell_type": "code",
   "execution_count": null,
   "id": "bd00bb5c",
   "metadata": {},
   "outputs": [],
   "source": []
  }
 ],
 "metadata": {
  "kernelspec": {
   "display_name": "Python 3 (ipykernel)",
   "language": "python",
   "name": "python3"
  },
  "language_info": {
   "codemirror_mode": {
    "name": "ipython",
    "version": 3
   },
   "file_extension": ".py",
   "mimetype": "text/x-python",
   "name": "python",
   "nbconvert_exporter": "python",
   "pygments_lexer": "ipython3",
   "version": "3.11.5"
  }
 },
 "nbformat": 4,
 "nbformat_minor": 5
}
